{
  "nbformat": 4,
  "nbformat_minor": 0,
  "metadata": {
    "colab": {
      "provenance": []
    },
    "kernelspec": {
      "name": "python3",
      "display_name": "Python 3"
    },
    "language_info": {
      "name": "python"
    }
  },
  "cells": [
    {
      "cell_type": "markdown",
      "source": [
        "EDA and prediciton of the cost to treat different patients based on various factors."
      ],
      "metadata": {
        "id": "pbEVdOzXX5n0"
      }
    },
    {
      "cell_type": "code",
      "execution_count": 106,
      "metadata": {
        "id": "q4nxRxdxWmH2"
      },
      "outputs": [],
      "source": [
        "# Modules required for EDA\n",
        "\n",
        "import numpy as np\n",
        "import pandas as pd\n",
        "import matplotlib.pyplot as plt\n",
        "import seaborn as sns\n",
        "data = pd.read_csv('/content/insurance.csv')"
      ]
    },
    {
      "cell_type": "code",
      "source": [
        "# Basic format of the dataset\n",
        "\n",
        "data.head()"
      ],
      "metadata": {
        "id": "5RC1weQqXxqI"
      },
      "execution_count": null,
      "outputs": []
    },
    {
      "cell_type": "code",
      "source": [
        "# Missing value treatment\n",
        "\n",
        "data.isnull().sum()"
      ],
      "metadata": {
        "id": "lrnPfXlkYfTT"
      },
      "execution_count": null,
      "outputs": []
    },
    {
      "cell_type": "code",
      "source": [
        "# Encoding for categorical features\n",
        "\n",
        "from sklearn.preprocessing import LabelEncoder\n",
        "\n",
        "#sex\n",
        "le = LabelEncoder()\n",
        "le.fit(data.sex.drop_duplicates())          # 0: Female, 1: Male\n",
        "data.sex = le.transform(data.sex)\n",
        "\n",
        "# smoker or not\n",
        "le.fit(data.smoker.drop_duplicates())       # 0: No, 1: Yes\n",
        "data.smoker = le.transform(data.smoker)\n",
        "\n",
        "#region\n",
        "le.fit(data.region.drop_duplicates())\n",
        "data.region = le.transform(data.region)     # 0: NE, 1: NW, 2: SE, 3: SW\n",
        "data.head()"
      ],
      "metadata": {
        "id": "7ScbZy0nY2RH"
      },
      "execution_count": null,
      "outputs": []
    },
    {
      "cell_type": "code",
      "source": [
        "# Seaborn heat map\n",
        "\n",
        "f, ax = plt.subplots(figsize=(5, 4))\n",
        "corr = data.corr()\n",
        "sns.heatmap(corr, mask=np.zeros_like(corr, dtype=bool), cmap='viridis_r', square=True, ax=ax)"
      ],
      "metadata": {
        "id": "JlNzvMyPaK3z"
      },
      "execution_count": null,
      "outputs": []
    },
    {
      "cell_type": "markdown",
      "source": [
        "**INFERENCES:**\n",
        "1.   The biggest factor affecting the cost or charge is smoking.\n",
        "2.   BMI isn't as big a factor as thought."
      ],
      "metadata": {
        "id": "98iWQ5PAamW9"
      }
    },
    {
      "cell_type": "code",
      "source": [
        "# Checking the above inference\n",
        "\n",
        "data.corr()['charges'].sort_values()"
      ],
      "metadata": {
        "id": "5a8V0AdFa3Vr"
      },
      "execution_count": null,
      "outputs": []
    },
    {
      "cell_type": "code",
      "source": [
        "# Looking at data for smokers\n",
        "\n",
        "f= plt.figure(figsize=(9,5))\n",
        "ax=f.add_subplot(121)\n",
        "sns.histplot(data[(data.smoker == 1)][\"charges\"],color='c',ax=ax)\n",
        "ax.set_title('Distribution of charges for smokers')\n",
        "ax=f.add_subplot(122)\n",
        "sns.histplot(data[(data.smoker == 0)]['charges'],color='b',ax=ax)\n",
        "ax.set_title('Distribution of charges for non-smokers')"
      ],
      "metadata": {
        "id": "r57L1s1VcbrL"
      },
      "execution_count": null,
      "outputs": []
    },
    {
      "cell_type": "markdown",
      "source": [
        "**INFERENCE:**\n",
        "\n",
        "*   An average smoker pays much more charge than an average non smoker."
      ],
      "metadata": {
        "id": "_Kss3CfJic-O"
      }
    },
    {
      "cell_type": "code",
      "source": [
        "# Checking the above inference\n",
        "\n",
        "mean_cost_for_smokers = data.groupby('smoker')['charges'].mean()\n",
        "mean_cost_for_smokers"
      ],
      "metadata": {
        "id": "cfXzZIAhjA55"
      },
      "execution_count": null,
      "outputs": []
    },
    {
      "cell_type": "code",
      "source": [
        "# Looking at data for BMI\n",
        "\n",
        "plt.figure(figsize=(8,5))\n",
        "ax = sns.scatterplot(x='bmi',y='charges',data=data,palette='magma',hue='smoker')\n",
        "ax.set_title('Scatter plot of charges and bmi')"
      ],
      "metadata": {
        "id": "U8SYF2XenzC4"
      },
      "execution_count": null,
      "outputs": []
    },
    {
      "cell_type": "markdown",
      "source": [
        "**Inference:**\n",
        "*   BMI doesn't affect the cost of treatment for non smokers.\n",
        "*   Cost of treatment for smokers suddenly increases when their BMI>30."
      ],
      "metadata": {
        "id": "3sNBjDAPoZNX"
      }
    },
    {
      "cell_type": "code",
      "source": [
        "# Looking at data for Age\n",
        "\n",
        "plt.figure(figsize=(8,5))\n",
        "ax = sns.scatterplot(x='age',y='charges',data=data,palette='magma',hue='smoker')\n",
        "ax.set_title('Scatter plot of charges and age')"
      ],
      "metadata": {
        "id": "gZ-OgzbJoJ8Q"
      },
      "execution_count": null,
      "outputs": []
    },
    {
      "cell_type": "markdown",
      "source": [
        "**We can't draw any such inference about age as data has lots of outliers.**"
      ],
      "metadata": {
        "id": "zThqt82To4zh"
      }
    },
    {
      "cell_type": "code",
      "source": [
        "# Modules required for Regression\n",
        "\n",
        "from sklearn.linear_model import LinearRegression\n",
        "from sklearn.model_selection import train_test_split\n",
        "from sklearn.preprocessing import PolynomialFeatures, normalize\n",
        "from sklearn.metrics import r2_score,mean_squared_error\n",
        "from sklearn.ensemble import RandomForestRegressor"
      ],
      "metadata": {
        "id": "NP5xOLuko4i7"
      },
      "execution_count": 116,
      "outputs": []
    },
    {
      "cell_type": "code",
      "source": [
        "# Basic linear regression\n",
        "\n",
        "x = data.drop(['charges'], axis = 1)\n",
        "y = data['charges']\n",
        "\n",
        "x_train,x_test,y_train,y_test = train_test_split(x, y, random_state=0, train_size=0.75)\n",
        "lr = LinearRegression().fit(x_train,y_train)\n",
        "\n",
        "y_train_pred = lr.predict(x_train)\n",
        "y_test_pred = lr.predict(x_test)\n",
        "\n",
        "print(f\"Accuracy = {lr.score(x_test,y_test)}\")"
      ],
      "metadata": {
        "id": "-HnwyIpwp-v5"
      },
      "execution_count": null,
      "outputs": []
    },
    {
      "cell_type": "code",
      "source": [
        "# Changing features for better accuracy\n",
        "\n",
        "X = data.drop(['charges','region'], axis = 1)\n",
        "Y = data.charges\n",
        "\n",
        "quad = PolynomialFeatures (degree = 2)\n",
        "x_quad = quad.fit_transform(X)\n",
        "\n",
        "X_train,X_test,Y_train,Y_test = train_test_split(x_quad,Y, random_state = 0, train_size=0.75)\n",
        "\n",
        "plr = LinearRegression().fit(X_train,Y_train)\n",
        "\n",
        "Y_train_pred = plr.predict(X_train)\n",
        "Y_test_pred = plr.predict(X_test)\n",
        "\n",
        "print(f\"Accuracy = {plr.score(X_train,Y_train)}\")\n",
        "print(f\"Accuracy = {plr.score(X_test,Y_test)}\")"
      ],
      "metadata": {
        "id": "IVvNoNK0sBlV"
      },
      "execution_count": null,
      "outputs": []
    }
  ]
}